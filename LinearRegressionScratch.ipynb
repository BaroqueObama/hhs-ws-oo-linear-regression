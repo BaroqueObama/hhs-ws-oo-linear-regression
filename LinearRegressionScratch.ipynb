{
 "cells": [
  {
   "cell_type": "markdown",
   "id": "888b60af-9e5b-4d45-a12d-83357e56d8ef",
   "metadata": {},
   "source": [
    "# Quick word on Python notebook files.\n",
    "### Make sure you run ALL the prior code cells\n",
    "### Running a cell only runs the code INSIDE the cell\n",
    "#### Variables, functions, etc from cells previously ran can be accessed.\n",
    "#### Try running the 3 cells below and get `print(hi)` to work without adding any code"
   ]
  },
  {
   "cell_type": "code",
   "execution_count": 93,
   "id": "353e8d6d-7a9f-48f9-b797-ff5877535b25",
   "metadata": {
    "execution": {
     "iopub.execute_input": "2023-10-03T10:39:53.583561Z",
     "iopub.status.busy": "2023-10-03T10:39:53.582597Z",
     "iopub.status.idle": "2023-10-03T10:39:53.592031Z",
     "shell.execute_reply": "2023-10-03T10:39:53.590730Z",
     "shell.execute_reply.started": "2023-10-03T10:39:53.583522Z"
    },
    "tags": []
   },
   "outputs": [
    {
     "name": "stdout",
     "output_type": "stream",
     "text": [
      "hello\n"
     ]
    }
   ],
   "source": [
    "# Example\n",
    "print(hi)"
   ]
  },
  {
   "cell_type": "code",
   "execution_count": 90,
   "id": "8f832dd8-e2fb-46c4-8d64-3344842b3cb2",
   "metadata": {
    "execution": {
     "iopub.execute_input": "2023-10-03T10:39:48.078449Z",
     "iopub.status.busy": "2023-10-03T10:39:48.078059Z",
     "iopub.status.idle": "2023-10-03T10:39:48.086786Z",
     "shell.execute_reply": "2023-10-03T10:39:48.085691Z",
     "shell.execute_reply.started": "2023-10-03T10:39:48.078424Z"
    }
   },
   "outputs": [],
   "source": [
    "hi = 5"
   ]
  },
  {
   "cell_type": "code",
   "execution_count": 92,
   "id": "49c72c4d-d4d1-4b70-bbfd-6e03f9830447",
   "metadata": {
    "execution": {
     "iopub.execute_input": "2023-10-03T10:39:51.766781Z",
     "iopub.status.busy": "2023-10-03T10:39:51.766433Z",
     "iopub.status.idle": "2023-10-03T10:39:51.772793Z",
     "shell.execute_reply": "2023-10-03T10:39:51.771958Z",
     "shell.execute_reply.started": "2023-10-03T10:39:51.766758Z"
    }
   },
   "outputs": [],
   "source": [
    "hi = \"hello\""
   ]
  },
  {
   "cell_type": "markdown",
   "id": "9a24252e-81c5-4c65-b6c6-a19c3fa6d55e",
   "metadata": {},
   "source": [
    "### Import Statements"
   ]
  },
  {
   "cell_type": "code",
   "execution_count": 1,
   "id": "0c3db480-e9f5-4fa0-8d56-299938441bcb",
   "metadata": {
    "execution": {
     "iopub.execute_input": "2023-10-03T10:21:36.337831Z",
     "iopub.status.busy": "2023-10-03T10:21:36.337420Z",
     "iopub.status.idle": "2023-10-03T10:21:37.685858Z",
     "shell.execute_reply": "2023-10-03T10:21:37.685464Z",
     "shell.execute_reply.started": "2023-10-03T10:21:36.337789Z"
    },
    "tags": []
   },
   "outputs": [],
   "source": [
    "import torch\n",
    "import random\n",
    "import math\n",
    "import pandas as pd\n",
    "import matplotlib.pyplot as plt\n",
    "import numpy as np\n",
    "\n",
    "from sklearn.model_selection import train_test_split\n",
    "from sklearn.metrics import accuracy_score, mean_squared_error, r2_score\n",
    "from sklearn.linear_model import LinearRegression as skLinearRegression"
   ]
  },
  {
   "cell_type": "markdown",
   "id": "2a640357-1d76-436d-ab52-9bb71c38b727",
   "metadata": {},
   "source": [
    "## Linear Regression Model Class"
   ]
  },
  {
   "cell_type": "code",
   "execution_count": 18,
   "id": "055f6ff5-ab8d-4c98-b5ae-8b81803adae1",
   "metadata": {
    "execution": {
     "iopub.execute_input": "2023-10-03T10:29:17.661638Z",
     "iopub.status.busy": "2023-10-03T10:29:17.661211Z",
     "iopub.status.idle": "2023-10-03T10:29:17.678444Z",
     "shell.execute_reply": "2023-10-03T10:29:17.677955Z",
     "shell.execute_reply.started": "2023-10-03T10:29:17.661613Z"
    },
    "tags": []
   },
   "outputs": [],
   "source": [
    "class LinearRegression:\n",
    "    def __init__(self, num_inputs, lr, sigma=0.01):\n",
    "        self.num_inputs = num_inputs\n",
    "        self.lr = lr\n",
    "        self.sigma = sigma\n",
    "        self.w = torch.normal(0, sigma, (num_inputs, 1), requires_grad=True)\n",
    "        self.b = torch.zeros(1, requires_grad=True)\n",
    "        \n",
    "        self.train_epoch = []\n",
    "        self.train_loss = []\n",
    "        self.val_epoch = []\n",
    "        self.val_loss = []\n",
    "        \n",
    "    def forward(self, X):\n",
    "        return torch.matmul(X, self.w) + self.b\n",
    "    \n",
    "    def loss(self, y_hat, y):\n",
    "        l = (y_hat - y.reshape(y_hat.shape)) ** 2 / 2\n",
    "        return l.mean()\n",
    "    \n",
    "    def configure_optimizers(self):\n",
    "        return SGD([self.w, self.b], self.lr)\n",
    "    \n",
    "    def training_step(self, batch, idx):\n",
    "        l = self.loss(self.forward(batch[:, :-1]), batch[:, -1])\n",
    "        self.train_epoch.append(idx)\n",
    "        self.train_loss.append(l.detach().numpy())\n",
    "        return l\n",
    "    \n",
    "    def validation_step(self, val, idx):\n",
    "        l = self.loss(self.forward(val[:, :-1]), val[:, -1])\n",
    "        self.val_epoch.append(idx)\n",
    "        self.val_loss.append(l.detach().numpy())\n",
    "        \n",
    "    def plot(self):\n",
    "        plt.plot(self.train_epoch, self.train_loss, label = \"train\")\n",
    "        plt.plot(self.val_epoch, self.val_loss, label = \"validation\")\n",
    "        plt.legend()\n",
    "        plt.show()"
   ]
  },
  {
   "cell_type": "markdown",
   "id": "b4d53fd0-0b5a-4b09-94ce-db96f450beb7",
   "metadata": {},
   "source": [
    "## Stochastic Gradient Decent Class"
   ]
  },
  {
   "cell_type": "code",
   "execution_count": 9,
   "id": "e759d1bc",
   "metadata": {
    "execution": {
     "iopub.execute_input": "2023-10-03T10:26:42.386436Z",
     "iopub.status.busy": "2023-10-03T10:26:42.385721Z",
     "iopub.status.idle": "2023-10-03T10:26:42.397112Z",
     "shell.execute_reply": "2023-10-03T10:26:42.395779Z",
     "shell.execute_reply.started": "2023-10-03T10:26:42.386402Z"
    },
    "tags": []
   },
   "outputs": [],
   "source": [
    "class SGD:\n",
    "    def __init__(self, params, lr):\n",
    "        self.params = params\n",
    "        self.lr = lr\n",
    "    \n",
    "    def step(self):\n",
    "        for param in self.params:\n",
    "            param -= self.lr * param.grad\n",
    "    \n",
    "    def zero_grad(self):\n",
    "        for param in self.params:\n",
    "            if param.grad is not None:\n",
    "                param.grad.zero_()"
   ]
  },
  {
   "cell_type": "markdown",
   "id": "98e42cab-4590-4a0d-bde6-c9950e56f0b0",
   "metadata": {},
   "source": [
    "## Trainer Class"
   ]
  },
  {
   "cell_type": "code",
   "execution_count": 7,
   "id": "a43bdfb5-84a6-4dfc-8c35-6d4dc51fdd64",
   "metadata": {
    "execution": {
     "iopub.execute_input": "2023-10-03T10:26:41.561920Z",
     "iopub.status.busy": "2023-10-03T10:26:41.561215Z",
     "iopub.status.idle": "2023-10-03T10:26:41.580277Z",
     "shell.execute_reply": "2023-10-03T10:26:41.579365Z",
     "shell.execute_reply.started": "2023-10-03T10:26:41.561889Z"
    },
    "tags": []
   },
   "outputs": [],
   "source": [
    "class Trainer:\n",
    "    def __init__(self, max_epochs):\n",
    "        self.max_epochs = max_epochs\n",
    "    \n",
    "    def prepare_data(self, data, batch_size):\n",
    "        self.train_dataloader = data.train_dataloader(batch_size)\n",
    "        self.val_data = data.val_data()\n",
    "        self.batch_train = batch_size / data.train_len()\n",
    "    \n",
    "    def prepare_model(self, model):\n",
    "        self.model = model\n",
    "    \n",
    "    def fit(self, model, data, batch_size):\n",
    "        self.prepare_data(data, batch_size)\n",
    "        self.prepare_model(model)\n",
    "        self.optim = model.configure_optimizers()\n",
    "        self.epoch = 0\n",
    "        \n",
    "        for self.epoch in range(self.max_epochs):\n",
    "            self.fit_epoch()\n",
    "            with torch.no_grad():\n",
    "                self.model.validation_step(self.val_data, self.epoch+1)\n",
    "            self.prepare_data(data, batch_size)\n",
    "    \n",
    "    def fit_epoch(self):\n",
    "        self.train_batch_idx = 1\n",
    "        for batch in self.train_dataloader:\n",
    "            loss = self.model.training_step(batch, self.epoch+self.batch_train*self.train_batch_idx)\n",
    "            self.optim.zero_grad()\n",
    "            with torch.no_grad():\n",
    "                loss.backward()\n",
    "                self.optim.step()\n",
    "            self.train_batch_idx += 1"
   ]
  },
  {
   "cell_type": "markdown",
   "id": "eee78357-a123-4b23-b392-815ae153c2da",
   "metadata": {},
   "source": [
    "## Dataloader Class"
   ]
  },
  {
   "cell_type": "code",
   "execution_count": 8,
   "id": "55cce200-3ad1-4c91-b13d-3d3ae14d87ec",
   "metadata": {
    "execution": {
     "iopub.execute_input": "2023-10-03T10:26:41.961054Z",
     "iopub.status.busy": "2023-10-03T10:26:41.959012Z",
     "iopub.status.idle": "2023-10-03T10:26:41.976773Z",
     "shell.execute_reply": "2023-10-03T10:26:41.976029Z",
     "shell.execute_reply.started": "2023-10-03T10:26:41.960975Z"
    },
    "tags": []
   },
   "outputs": [],
   "source": [
    "class Data:\n",
    "    def __init__(self, df, val=0):\n",
    "        self.tensor = torch.tensor(df.values, dtype=torch.float)\n",
    "        \n",
    "        num_examples = len(self.tensor)\n",
    "        indices = list(range(num_examples))\n",
    "        random.shuffle(indices)\n",
    "\n",
    "        val_indices = torch.tensor(indices[:math.ceil(num_examples*val)], dtype=torch.long)\n",
    "        train_indices = torch.tensor(indices[math.ceil(num_examples*val):], dtype=torch.long)\n",
    "            \n",
    "        self.train = self.tensor[train_indices]\n",
    "        self.val = self.tensor[val_indices]\n",
    "        self.batch_size = 0\n",
    "        \n",
    "    def train_dataloader(self, batch_size):\n",
    "        self.batch_size = batch_size\n",
    "        num_examples = len(self.train)\n",
    "        indices = list(range(num_examples))\n",
    "        random.shuffle(indices)\n",
    "        \n",
    "        for batch_idx in range(0, num_examples, batch_size):\n",
    "            batch_indices = torch.tensor(indices[batch_idx: min(batch_idx + batch_size, num_examples)])\n",
    "            yield self.train[batch_indices]\n",
    "    \n",
    "    def train_len(self):\n",
    "        return len(self.train)\n",
    "            \n",
    "    def val_data(self):\n",
    "        return self.val"
   ]
  },
  {
   "cell_type": "markdown",
   "id": "36085003-ffdb-4d10-8334-a046c03c36e1",
   "metadata": {},
   "source": [
    "## Try the model out"
   ]
  },
  {
   "cell_type": "markdown",
   "id": "2d1f24c2-0f93-4621-a73d-3871ba381c78",
   "metadata": {},
   "source": [
    "### Generate Synthetic Data"
   ]
  },
  {
   "cell_type": "code",
   "execution_count": 96,
   "id": "b362a812-8808-4e55-befc-a905c7dc109c",
   "metadata": {
    "execution": {
     "iopub.execute_input": "2023-10-03T10:47:14.452373Z",
     "iopub.status.busy": "2023-10-03T10:47:14.451667Z",
     "iopub.status.idle": "2023-10-03T10:47:14.535929Z",
     "shell.execute_reply": "2023-10-03T10:47:14.535051Z",
     "shell.execute_reply.started": "2023-10-03T10:47:14.452338Z"
    },
    "tags": []
   },
   "outputs": [
    {
     "data": {
      "text/plain": [
       "<matplotlib.collections.PathCollection at 0x17eeb3b20>"
      ]
     },
     "execution_count": 96,
     "metadata": {},
     "output_type": "execute_result"
    },
    {
     "data": {
      "image/png": "[encoded data removed]",
      "text/plain": [
       "<Figure size 640x480 with 1 Axes>"
      ]
     },
     "metadata": {},
     "output_type": "display_data"
    }
   ],
   "source": [
    "def generateData(func, samples=100, noise=1, lower=-5, upper=45):\n",
    "    x = np.random.uniform(lower, upper, samples)\n",
    "    vfunc = np.vectorize(func)\n",
    "    y = vfunc(x)\n",
    "    n = np.random.normal(0, noise, samples)\n",
    "    y = y+n\n",
    "    return x, y\n",
    "\n",
    "def line(x):\n",
    "    return 3.48*x-13.76\n",
    "\n",
    "X, y = generateData(line, samples=10000, noise=10)\n",
    "df = pd.DataFrame({'X': X, 'y': y})\n",
    "plt.scatter(X,y,alpha=0.05)"
   ]
  },
  {
   "cell_type": "markdown",
   "id": "2da56b3d-2c0b-4791-a81f-9fc1144a6b2e",
   "metadata": {},
   "source": [
    "### Split the code into training set and test set"
   ]
  },
  {
   "cell_type": "code",
   "execution_count": 97,
   "id": "307c3e1c-256c-4a1a-8250-b4fe94d8d522",
   "metadata": {
    "execution": {
     "iopub.execute_input": "2023-10-03T10:47:15.284962Z",
     "iopub.status.busy": "2023-10-03T10:47:15.284285Z",
     "iopub.status.idle": "2023-10-03T10:47:15.295830Z",
     "shell.execute_reply": "2023-10-03T10:47:15.294928Z",
     "shell.execute_reply.started": "2023-10-03T10:47:15.284913Z"
    },
    "tags": []
   },
   "outputs": [],
   "source": [
    "train_data, test_data = train_test_split(df, test_size=0.10)"
   ]
  },
  {
   "cell_type": "markdown",
   "id": "ea86dd28-f5b0-4e88-90a8-b4ea76b3ba28",
   "metadata": {},
   "source": [
    "### Initialize model, data loader, trainer and fit model to data"
   ]
  },
  {
   "cell_type": "code",
   "execution_count": 98,
   "id": "d1ad60c4-b47c-4688-8f14-88ad971fcd01",
   "metadata": {
    "execution": {
     "iopub.execute_input": "2023-10-03T10:47:16.333618Z",
     "iopub.status.busy": "2023-10-03T10:47:16.332648Z",
     "iopub.status.idle": "2023-10-03T10:47:16.424453Z",
     "shell.execute_reply": "2023-10-03T10:47:16.424075Z",
     "shell.execute_reply.started": "2023-10-03T10:47:16.333561Z"
    },
    "tags": []
   },
   "outputs": [
    {
     "data": {
      "image/png": "[encoded data removed]",
      "text/plain": [
       "<Figure size 640x480 with 1 Axes>"
      ]
     },
     "metadata": {},
     "output_type": "display_data"
    }
   ],
   "source": [
    "model = LinearRegression(len(train_data.columns)-1, 0.001)\n",
    "data = Data(train_data, 0.1)\n",
    "trainer = Trainer(max_epochs=4)\n",
    "trainer.fit(model, data, 1024)\n",
    "model.plot()"
   ]
  },
  {
   "cell_type": "markdown",
   "id": "e4b869a2-84a4-4b9d-8971-59c35be975cd",
   "metadata": {},
   "source": [
    "### Evaluate the model's \"accuracy\" or fit"
   ]
  },
  {
   "cell_type": "code",
   "execution_count": 100,
   "id": "525d7676-2f80-492c-821b-c1c9c28226d3",
   "metadata": {
    "execution": {
     "iopub.execute_input": "2023-10-03T10:47:34.601150Z",
     "iopub.status.busy": "2023-10-03T10:47:34.600743Z",
     "iopub.status.idle": "2023-10-03T10:47:34.615707Z",
     "shell.execute_reply": "2023-10-03T10:47:34.614851Z",
     "shell.execute_reply.started": "2023-10-03T10:47:34.601127Z"
    },
    "tags": []
   },
   "outputs": [
    {
     "name": "stdout",
     "output_type": "stream",
     "text": [
      "Mean Squared Error:  172.88759\n",
      "R2 Score:  0.9335615349523014\n",
      "Predicted slope  [[3.036716]]\n",
      "Predicted intercept  [-0.04958556]\n"
     ]
    }
   ],
   "source": [
    "test_tensor = torch.tensor(test_data.values, dtype=torch.float)\n",
    "y_pred = model.forward(test_tensor[:, :-1]).detach().numpy()\n",
    "y = test_tensor[:, -1].numpy()\n",
    "print(\"Mean Squared Error: \", mean_squared_error(y, y_pred))\n",
    "print(\"R2 Score: \", r2_score(y, y_pred))\n",
    "print(\"Predicted slope \", model.w.detach().numpy())\n",
    "print(\"Predicted intercept \", model.b.detach().numpy())"
   ]
  },
  {
   "cell_type": "markdown",
   "id": "13b9c7b3-b0b1-4acc-a1ca-de9e407aa594",
   "metadata": {},
   "source": [
    "### Compare our model to Sklearn's Linear Regression Model"
   ]
  },
  {
   "cell_type": "code",
   "execution_count": 101,
   "id": "22b7dda5-08e4-4a91-9cd5-2e33d60e5f95",
   "metadata": {
    "execution": {
     "iopub.execute_input": "2023-10-03T10:48:01.525868Z",
     "iopub.status.busy": "2023-10-03T10:48:01.523398Z",
     "iopub.status.idle": "2023-10-03T10:48:01.546218Z",
     "shell.execute_reply": "2023-10-03T10:48:01.545600Z",
     "shell.execute_reply.started": "2023-10-03T10:48:01.525802Z"
    },
    "tags": []
   },
   "outputs": [
    {
     "name": "stdout",
     "output_type": "stream",
     "text": [
      "Mean Squared Error:  102.26854596371432\n",
      "R2 Score:  0.9606995190521043\n"
     ]
    }
   ],
   "source": [
    "reg = skLinearRegression().fit(train_data[train_data.columns[:-1]], train_data[train_data.columns[-1]])\n",
    "\n",
    "y_pred = reg.predict(test_data[test_data.columns[:-1]])\n",
    "y = test_data[test_data.columns[-1]]\n",
    "\n",
    "print(\"Mean Squared Error: \", mean_squared_error(y, y_pred))\n",
    "print(\"R2 Score: \", r2_score(y, y_pred))"
   ]
  },
  {
   "cell_type": "markdown",
   "id": "8c906183-96c5-4bfe-a5f5-47b21837c2cc",
   "metadata": {},
   "source": [
    "## AP Stats Student Score Dataset"
   ]
  },
  {
   "cell_type": "code",
   "execution_count": 24,
   "id": "8d7b8598-b237-4f05-8966-cb74e080d5ef",
   "metadata": {
    "execution": {
     "iopub.execute_input": "2023-10-03T10:29:28.281780Z",
     "iopub.status.busy": "2023-10-03T10:29:28.280691Z",
     "iopub.status.idle": "2023-10-03T10:29:28.312696Z",
     "shell.execute_reply": "2023-10-03T10:29:28.312006Z",
     "shell.execute_reply.started": "2023-10-03T10:29:28.281720Z"
    },
    "tags": []
   },
   "outputs": [
    {
     "data": {
      "text/html": [
       "<div>\n",
       "<style scoped>\n",
       "    .dataframe tbody tr th:only-of-type {\n",
       "        vertical-align: middle;\n",
       "    }\n",
       "\n",
       "    .dataframe tbody tr th {\n",
       "        vertical-align: top;\n",
       "    }\n",
       "\n",
       "    .dataframe thead th {\n",
       "        text-align: right;\n",
       "    }\n",
       "</style>\n",
       "<table border=\"1\" class=\"dataframe\">\n",
       "  <thead>\n",
       "    <tr style=\"text-align: right;\">\n",
       "      <th></th>\n",
       "      <th>S1 Overall</th>\n",
       "      <th>S1 Assignments</th>\n",
       "      <th>S1 Exit Tickets</th>\n",
       "      <th>S1 MCQ Tests</th>\n",
       "      <th>S1 FRQ Tests</th>\n",
       "      <th>S1 Final Exam</th>\n",
       "      <th>S2 Overall</th>\n",
       "      <th>S2 Assignments</th>\n",
       "      <th>S2 Exit Tickets</th>\n",
       "      <th>S1 MCQ Tests.1</th>\n",
       "      <th>S2 FRQ Tests</th>\n",
       "      <th>S2 Final Exam</th>\n",
       "      <th>AP Exam</th>\n",
       "    </tr>\n",
       "  </thead>\n",
       "  <tbody>\n",
       "    <tr>\n",
       "      <th>0</th>\n",
       "      <td>87</td>\n",
       "      <td>82.52</td>\n",
       "      <td>98.75</td>\n",
       "      <td>84.0</td>\n",
       "      <td>92.50</td>\n",
       "      <td>77.5</td>\n",
       "      <td>85.0</td>\n",
       "      <td>82.05</td>\n",
       "      <td>97.33</td>\n",
       "      <td>83.64</td>\n",
       "      <td>87.31</td>\n",
       "      <td>77.5</td>\n",
       "      <td>4.0</td>\n",
       "    </tr>\n",
       "    <tr>\n",
       "      <th>1</th>\n",
       "      <td>94</td>\n",
       "      <td>100.00</td>\n",
       "      <td>98.75</td>\n",
       "      <td>89.0</td>\n",
       "      <td>89.17</td>\n",
       "      <td>97.5</td>\n",
       "      <td>91.0</td>\n",
       "      <td>100.00</td>\n",
       "      <td>100.00</td>\n",
       "      <td>85.91</td>\n",
       "      <td>87.69</td>\n",
       "      <td>82.5</td>\n",
       "      <td>4.0</td>\n",
       "    </tr>\n",
       "    <tr>\n",
       "      <th>2</th>\n",
       "      <td>97</td>\n",
       "      <td>100.00</td>\n",
       "      <td>100.00</td>\n",
       "      <td>95.0</td>\n",
       "      <td>97.50</td>\n",
       "      <td>90.0</td>\n",
       "      <td>98.0</td>\n",
       "      <td>100.00</td>\n",
       "      <td>100.00</td>\n",
       "      <td>95.45</td>\n",
       "      <td>94.62</td>\n",
       "      <td>100.0</td>\n",
       "      <td>5.0</td>\n",
       "    </tr>\n",
       "    <tr>\n",
       "      <th>3</th>\n",
       "      <td>96</td>\n",
       "      <td>100.00</td>\n",
       "      <td>100.00</td>\n",
       "      <td>93.0</td>\n",
       "      <td>97.50</td>\n",
       "      <td>90.0</td>\n",
       "      <td>94.0</td>\n",
       "      <td>99.49</td>\n",
       "      <td>100.00</td>\n",
       "      <td>91.36</td>\n",
       "      <td>93.46</td>\n",
       "      <td>87.5</td>\n",
       "      <td>5.0</td>\n",
       "    </tr>\n",
       "    <tr>\n",
       "      <th>4</th>\n",
       "      <td>96</td>\n",
       "      <td>100.00</td>\n",
       "      <td>100.00</td>\n",
       "      <td>89.0</td>\n",
       "      <td>95.00</td>\n",
       "      <td>97.5</td>\n",
       "      <td>97.0</td>\n",
       "      <td>100.00</td>\n",
       "      <td>100.00</td>\n",
       "      <td>90.00</td>\n",
       "      <td>98.85</td>\n",
       "      <td>97.5</td>\n",
       "      <td>5.0</td>\n",
       "    </tr>\n",
       "    <tr>\n",
       "      <th>...</th>\n",
       "      <td>...</td>\n",
       "      <td>...</td>\n",
       "      <td>...</td>\n",
       "      <td>...</td>\n",
       "      <td>...</td>\n",
       "      <td>...</td>\n",
       "      <td>...</td>\n",
       "      <td>...</td>\n",
       "      <td>...</td>\n",
       "      <td>...</td>\n",
       "      <td>...</td>\n",
       "      <td>...</td>\n",
       "      <td>...</td>\n",
       "    </tr>\n",
       "    <tr>\n",
       "      <th>218</th>\n",
       "      <td>92</td>\n",
       "      <td>98.25</td>\n",
       "      <td>97.33</td>\n",
       "      <td>91.0</td>\n",
       "      <td>90.00</td>\n",
       "      <td>85.0</td>\n",
       "      <td>92.0</td>\n",
       "      <td>95.83</td>\n",
       "      <td>100.00</td>\n",
       "      <td>88.18</td>\n",
       "      <td>93.18</td>\n",
       "      <td>85.0</td>\n",
       "      <td>5.0</td>\n",
       "    </tr>\n",
       "    <tr>\n",
       "      <th>219</th>\n",
       "      <td>89</td>\n",
       "      <td>87.63</td>\n",
       "      <td>98.67</td>\n",
       "      <td>82.0</td>\n",
       "      <td>88.50</td>\n",
       "      <td>95.0</td>\n",
       "      <td>91.0</td>\n",
       "      <td>86.55</td>\n",
       "      <td>100.00</td>\n",
       "      <td>92.73</td>\n",
       "      <td>93.64</td>\n",
       "      <td>82.5</td>\n",
       "      <td>5.0</td>\n",
       "    </tr>\n",
       "    <tr>\n",
       "      <th>220</th>\n",
       "      <td>94</td>\n",
       "      <td>94.39</td>\n",
       "      <td>98.67</td>\n",
       "      <td>91.0</td>\n",
       "      <td>96.00</td>\n",
       "      <td>90.0</td>\n",
       "      <td>84.0</td>\n",
       "      <td>68.33</td>\n",
       "      <td>97.50</td>\n",
       "      <td>89.09</td>\n",
       "      <td>89.09</td>\n",
       "      <td>77.5</td>\n",
       "      <td>4.0</td>\n",
       "    </tr>\n",
       "    <tr>\n",
       "      <th>221</th>\n",
       "      <td>83</td>\n",
       "      <td>98.25</td>\n",
       "      <td>92.00</td>\n",
       "      <td>71.0</td>\n",
       "      <td>83.50</td>\n",
       "      <td>75.0</td>\n",
       "      <td>77.0</td>\n",
       "      <td>89.41</td>\n",
       "      <td>81.25</td>\n",
       "      <td>70.91</td>\n",
       "      <td>83.64</td>\n",
       "      <td>57.5</td>\n",
       "      <td>3.0</td>\n",
       "    </tr>\n",
       "    <tr>\n",
       "      <th>222</th>\n",
       "      <td>93</td>\n",
       "      <td>92.53</td>\n",
       "      <td>97.33</td>\n",
       "      <td>91.0</td>\n",
       "      <td>93.00</td>\n",
       "      <td>90.0</td>\n",
       "      <td>88.0</td>\n",
       "      <td>81.78</td>\n",
       "      <td>100.00</td>\n",
       "      <td>86.36</td>\n",
       "      <td>93.18</td>\n",
       "      <td>80.0</td>\n",
       "      <td>5.0</td>\n",
       "    </tr>\n",
       "  </tbody>\n",
       "</table>\n",
       "<p>202 rows × 13 columns</p>\n",
       "</div>"
      ],
      "text/plain": [
       "     S1 Overall  S1 Assignments  S1 Exit Tickets  S1 MCQ Tests  S1 FRQ Tests  \\\n",
       "0            87           82.52            98.75          84.0         92.50   \n",
       "1            94          100.00            98.75          89.0         89.17   \n",
       "2            97          100.00           100.00          95.0         97.50   \n",
       "3            96          100.00           100.00          93.0         97.50   \n",
       "4            96          100.00           100.00          89.0         95.00   \n",
       "..          ...             ...              ...           ...           ...   \n",
       "218          92           98.25            97.33          91.0         90.00   \n",
       "219          89           87.63            98.67          82.0         88.50   \n",
       "220          94           94.39            98.67          91.0         96.00   \n",
       "221          83           98.25            92.00          71.0         83.50   \n",
       "222          93           92.53            97.33          91.0         93.00   \n",
       "\n",
       "     S1 Final Exam  S2 Overall  S2 Assignments  S2 Exit Tickets  \\\n",
       "0             77.5        85.0           82.05            97.33   \n",
       "1             97.5        91.0          100.00           100.00   \n",
       "2             90.0        98.0          100.00           100.00   \n",
       "3             90.0        94.0           99.49           100.00   \n",
       "4             97.5        97.0          100.00           100.00   \n",
       "..             ...         ...             ...              ...   \n",
       "218           85.0        92.0           95.83           100.00   \n",
       "219           95.0        91.0           86.55           100.00   \n",
       "220           90.0        84.0           68.33            97.50   \n",
       "221           75.0        77.0           89.41            81.25   \n",
       "222           90.0        88.0           81.78           100.00   \n",
       "\n",
       "     S1 MCQ Tests.1  S2 FRQ Tests  S2 Final Exam  AP Exam  \n",
       "0             83.64         87.31           77.5      4.0  \n",
       "1             85.91         87.69           82.5      4.0  \n",
       "2             95.45         94.62          100.0      5.0  \n",
       "3             91.36         93.46           87.5      5.0  \n",
       "4             90.00         98.85           97.5      5.0  \n",
       "..              ...           ...            ...      ...  \n",
       "218           88.18         93.18           85.0      5.0  \n",
       "219           92.73         93.64           82.5      5.0  \n",
       "220           89.09         89.09           77.5      4.0  \n",
       "221           70.91         83.64           57.5      3.0  \n",
       "222           86.36         93.18           80.0      5.0  \n",
       "\n",
       "[202 rows x 13 columns]"
      ]
     },
     "metadata": {},
     "output_type": "display_data"
    }
   ],
   "source": [
    "df = pd.read_csv(\"Combined-Data-Table.csv\")\n",
    "df = df.dropna()\n",
    "display(df)"
   ]
  },
  {
   "cell_type": "code",
   "execution_count": 42,
   "id": "cf957f61-76d5-4b5d-bc06-3a3871a2a1aa",
   "metadata": {
    "execution": {
     "iopub.execute_input": "2023-10-03T10:30:41.982448Z",
     "iopub.status.busy": "2023-10-03T10:30:41.981554Z",
     "iopub.status.idle": "2023-10-03T10:30:41.994486Z",
     "shell.execute_reply": "2023-10-03T10:30:41.993654Z",
     "shell.execute_reply.started": "2023-10-03T10:30:41.982413Z"
    },
    "tags": []
   },
   "outputs": [],
   "source": [
    "train_data, test_data = train_test_split(df, test_size=0.10)"
   ]
  },
  {
   "cell_type": "code",
   "execution_count": 57,
   "id": "be86a4b0-756e-452c-b85d-d94456615023",
   "metadata": {
    "execution": {
     "iopub.execute_input": "2023-10-03T10:32:14.863647Z",
     "iopub.status.busy": "2023-10-03T10:32:14.863251Z",
     "iopub.status.idle": "2023-10-03T10:32:14.934316Z",
     "shell.execute_reply": "2023-10-03T10:32:14.933896Z",
     "shell.execute_reply.started": "2023-10-03T10:32:14.863622Z"
    },
    "tags": []
   },
   "outputs": [
    {
     "data": {
      "image/png": "[encoded data removed]",
      "text/plain": [
       "<Figure size 640x480 with 1 Axes>"
      ]
     },
     "metadata": {},
     "output_type": "display_data"
    }
   ],
   "source": [
    "model = LinearRegression(len(train_data.columns)-1, 0.000003)\n",
    "data = Data(train_data, 0.1)\n",
    "trainer = Trainer(max_epochs=4)\n",
    "trainer.fit(model, data, 64)\n",
    "model.plot()"
   ]
  },
  {
   "cell_type": "code",
   "execution_count": 58,
   "id": "664448bd-4ecf-4507-bc6b-01420a7822d1",
   "metadata": {
    "execution": {
     "iopub.execute_input": "2023-10-03T10:32:17.873960Z",
     "iopub.status.busy": "2023-10-03T10:32:17.873267Z",
     "iopub.status.idle": "2023-10-03T10:32:17.887821Z",
     "shell.execute_reply": "2023-10-03T10:32:17.886995Z",
     "shell.execute_reply.started": "2023-10-03T10:32:17.873910Z"
    },
    "tags": []
   },
   "outputs": [
    {
     "data": {
      "text/plain": [
       "0.2857142857142857"
      ]
     },
     "execution_count": 58,
     "metadata": {},
     "output_type": "execute_result"
    }
   ],
   "source": [
    "test_tensor = torch.tensor(test_data.values, dtype=torch.float)\n",
    "y_pred = torch.round(model.forward(test_tensor[:, :-1])).detach().numpy()\n",
    "y = test_tensor[:, -1].numpy()\n",
    "accuracy_score(y, y_pred)"
   ]
  },
  {
   "cell_type": "markdown",
   "id": "0e598630-0a67-4a57-a966-5372051bbd1e",
   "metadata": {},
   "source": [
    "## Popular Song Ranking Dataset"
   ]
  },
  {
   "cell_type": "code",
   "execution_count": 59,
   "id": "2621d205-b58f-4eda-830d-4ccf02bf1c28",
   "metadata": {
    "execution": {
     "iopub.execute_input": "2023-10-03T10:32:31.248333Z",
     "iopub.status.busy": "2023-10-03T10:32:31.246882Z",
     "iopub.status.idle": "2023-10-03T10:32:31.312058Z",
     "shell.execute_reply": "2023-10-03T10:32:31.311675Z",
     "shell.execute_reply.started": "2023-10-03T10:32:31.248263Z"
    },
    "tags": []
   },
   "outputs": [
    {
     "data": {
      "text/html": [
       "<div>\n",
       "<style scoped>\n",
       "    .dataframe tbody tr th:only-of-type {\n",
       "        vertical-align: middle;\n",
       "    }\n",
       "\n",
       "    .dataframe tbody tr th {\n",
       "        vertical-align: top;\n",
       "    }\n",
       "\n",
       "    .dataframe thead th {\n",
       "        text-align: right;\n",
       "    }\n",
       "</style>\n",
       "<table border=\"1\" class=\"dataframe\">\n",
       "  <thead>\n",
       "    <tr style=\"text-align: right;\">\n",
       "      <th></th>\n",
       "      <th>song_name</th>\n",
       "      <th>song_popularity</th>\n",
       "      <th>song_duration_ms</th>\n",
       "      <th>acousticness</th>\n",
       "      <th>danceability</th>\n",
       "      <th>energy</th>\n",
       "      <th>instrumentalness</th>\n",
       "      <th>key</th>\n",
       "      <th>liveness</th>\n",
       "      <th>loudness</th>\n",
       "      <th>audio_mode</th>\n",
       "      <th>speechiness</th>\n",
       "      <th>tempo</th>\n",
       "      <th>time_signature</th>\n",
       "      <th>audio_valence</th>\n",
       "    </tr>\n",
       "  </thead>\n",
       "  <tbody>\n",
       "    <tr>\n",
       "      <th>0</th>\n",
       "      <td>Boulevard of Broken Dreams</td>\n",
       "      <td>73</td>\n",
       "      <td>262333</td>\n",
       "      <td>0.005520</td>\n",
       "      <td>0.496</td>\n",
       "      <td>0.682</td>\n",
       "      <td>0.000029</td>\n",
       "      <td>8</td>\n",
       "      <td>0.0589</td>\n",
       "      <td>-4.095</td>\n",
       "      <td>1</td>\n",
       "      <td>0.0294</td>\n",
       "      <td>167.060</td>\n",
       "      <td>4</td>\n",
       "      <td>0.474</td>\n",
       "    </tr>\n",
       "    <tr>\n",
       "      <th>1</th>\n",
       "      <td>In The End</td>\n",
       "      <td>66</td>\n",
       "      <td>216933</td>\n",
       "      <td>0.010300</td>\n",
       "      <td>0.542</td>\n",
       "      <td>0.853</td>\n",
       "      <td>0.000000</td>\n",
       "      <td>3</td>\n",
       "      <td>0.1080</td>\n",
       "      <td>-6.407</td>\n",
       "      <td>0</td>\n",
       "      <td>0.0498</td>\n",
       "      <td>105.256</td>\n",
       "      <td>4</td>\n",
       "      <td>0.370</td>\n",
       "    </tr>\n",
       "    <tr>\n",
       "      <th>2</th>\n",
       "      <td>Seven Nation Army</td>\n",
       "      <td>76</td>\n",
       "      <td>231733</td>\n",
       "      <td>0.008170</td>\n",
       "      <td>0.737</td>\n",
       "      <td>0.463</td>\n",
       "      <td>0.447000</td>\n",
       "      <td>0</td>\n",
       "      <td>0.2550</td>\n",
       "      <td>-7.828</td>\n",
       "      <td>1</td>\n",
       "      <td>0.0792</td>\n",
       "      <td>123.881</td>\n",
       "      <td>4</td>\n",
       "      <td>0.324</td>\n",
       "    </tr>\n",
       "    <tr>\n",
       "      <th>3</th>\n",
       "      <td>By The Way</td>\n",
       "      <td>74</td>\n",
       "      <td>216933</td>\n",
       "      <td>0.026400</td>\n",
       "      <td>0.451</td>\n",
       "      <td>0.970</td>\n",
       "      <td>0.003550</td>\n",
       "      <td>0</td>\n",
       "      <td>0.1020</td>\n",
       "      <td>-4.938</td>\n",
       "      <td>1</td>\n",
       "      <td>0.1070</td>\n",
       "      <td>122.444</td>\n",
       "      <td>4</td>\n",
       "      <td>0.198</td>\n",
       "    </tr>\n",
       "    <tr>\n",
       "      <th>4</th>\n",
       "      <td>How You Remind Me</td>\n",
       "      <td>56</td>\n",
       "      <td>223826</td>\n",
       "      <td>0.000954</td>\n",
       "      <td>0.447</td>\n",
       "      <td>0.766</td>\n",
       "      <td>0.000000</td>\n",
       "      <td>10</td>\n",
       "      <td>0.1130</td>\n",
       "      <td>-5.065</td>\n",
       "      <td>1</td>\n",
       "      <td>0.0313</td>\n",
       "      <td>172.011</td>\n",
       "      <td>4</td>\n",
       "      <td>0.574</td>\n",
       "    </tr>\n",
       "    <tr>\n",
       "      <th>...</th>\n",
       "      <td>...</td>\n",
       "      <td>...</td>\n",
       "      <td>...</td>\n",
       "      <td>...</td>\n",
       "      <td>...</td>\n",
       "      <td>...</td>\n",
       "      <td>...</td>\n",
       "      <td>...</td>\n",
       "      <td>...</td>\n",
       "      <td>...</td>\n",
       "      <td>...</td>\n",
       "      <td>...</td>\n",
       "      <td>...</td>\n",
       "      <td>...</td>\n",
       "      <td>...</td>\n",
       "    </tr>\n",
       "    <tr>\n",
       "      <th>18830</th>\n",
       "      <td>Let It Breathe</td>\n",
       "      <td>60</td>\n",
       "      <td>159645</td>\n",
       "      <td>0.893000</td>\n",
       "      <td>0.500</td>\n",
       "      <td>0.151</td>\n",
       "      <td>0.000065</td>\n",
       "      <td>11</td>\n",
       "      <td>0.1110</td>\n",
       "      <td>-16.107</td>\n",
       "      <td>1</td>\n",
       "      <td>0.0348</td>\n",
       "      <td>113.969</td>\n",
       "      <td>4</td>\n",
       "      <td>0.300</td>\n",
       "    </tr>\n",
       "    <tr>\n",
       "      <th>18831</th>\n",
       "      <td>Answers</td>\n",
       "      <td>60</td>\n",
       "      <td>205666</td>\n",
       "      <td>0.765000</td>\n",
       "      <td>0.495</td>\n",
       "      <td>0.161</td>\n",
       "      <td>0.000001</td>\n",
       "      <td>11</td>\n",
       "      <td>0.1050</td>\n",
       "      <td>-14.078</td>\n",
       "      <td>0</td>\n",
       "      <td>0.0301</td>\n",
       "      <td>94.286</td>\n",
       "      <td>4</td>\n",
       "      <td>0.265</td>\n",
       "    </tr>\n",
       "    <tr>\n",
       "      <th>18832</th>\n",
       "      <td>Sudden Love (Acoustic)</td>\n",
       "      <td>23</td>\n",
       "      <td>182211</td>\n",
       "      <td>0.847000</td>\n",
       "      <td>0.719</td>\n",
       "      <td>0.325</td>\n",
       "      <td>0.000000</td>\n",
       "      <td>0</td>\n",
       "      <td>0.1250</td>\n",
       "      <td>-12.222</td>\n",
       "      <td>1</td>\n",
       "      <td>0.0355</td>\n",
       "      <td>130.534</td>\n",
       "      <td>4</td>\n",
       "      <td>0.286</td>\n",
       "    </tr>\n",
       "    <tr>\n",
       "      <th>18833</th>\n",
       "      <td>Gentle on My Mind</td>\n",
       "      <td>55</td>\n",
       "      <td>352280</td>\n",
       "      <td>0.945000</td>\n",
       "      <td>0.488</td>\n",
       "      <td>0.326</td>\n",
       "      <td>0.015700</td>\n",
       "      <td>3</td>\n",
       "      <td>0.1190</td>\n",
       "      <td>-12.020</td>\n",
       "      <td>1</td>\n",
       "      <td>0.0328</td>\n",
       "      <td>106.063</td>\n",
       "      <td>4</td>\n",
       "      <td>0.323</td>\n",
       "    </tr>\n",
       "    <tr>\n",
       "      <th>18834</th>\n",
       "      <td>Up to Me</td>\n",
       "      <td>60</td>\n",
       "      <td>193533</td>\n",
       "      <td>0.911000</td>\n",
       "      <td>0.640</td>\n",
       "      <td>0.381</td>\n",
       "      <td>0.000254</td>\n",
       "      <td>4</td>\n",
       "      <td>0.1040</td>\n",
       "      <td>-11.790</td>\n",
       "      <td>1</td>\n",
       "      <td>0.0302</td>\n",
       "      <td>91.490</td>\n",
       "      <td>4</td>\n",
       "      <td>0.581</td>\n",
       "    </tr>\n",
       "  </tbody>\n",
       "</table>\n",
       "<p>14926 rows × 15 columns</p>\n",
       "</div>"
      ],
      "text/plain": [
       "                        song_name  song_popularity  song_duration_ms  \\\n",
       "0      Boulevard of Broken Dreams               73            262333   \n",
       "1                      In The End               66            216933   \n",
       "2               Seven Nation Army               76            231733   \n",
       "3                      By The Way               74            216933   \n",
       "4               How You Remind Me               56            223826   \n",
       "...                           ...              ...               ...   \n",
       "18830              Let It Breathe               60            159645   \n",
       "18831                     Answers               60            205666   \n",
       "18832      Sudden Love (Acoustic)               23            182211   \n",
       "18833           Gentle on My Mind               55            352280   \n",
       "18834                    Up to Me               60            193533   \n",
       "\n",
       "       acousticness  danceability  energy  instrumentalness  key  liveness  \\\n",
       "0          0.005520         0.496   0.682          0.000029    8    0.0589   \n",
       "1          0.010300         0.542   0.853          0.000000    3    0.1080   \n",
       "2          0.008170         0.737   0.463          0.447000    0    0.2550   \n",
       "3          0.026400         0.451   0.970          0.003550    0    0.1020   \n",
       "4          0.000954         0.447   0.766          0.000000   10    0.1130   \n",
       "...             ...           ...     ...               ...  ...       ...   \n",
       "18830      0.893000         0.500   0.151          0.000065   11    0.1110   \n",
       "18831      0.765000         0.495   0.161          0.000001   11    0.1050   \n",
       "18832      0.847000         0.719   0.325          0.000000    0    0.1250   \n",
       "18833      0.945000         0.488   0.326          0.015700    3    0.1190   \n",
       "18834      0.911000         0.640   0.381          0.000254    4    0.1040   \n",
       "\n",
       "       loudness  audio_mode  speechiness    tempo  time_signature  \\\n",
       "0        -4.095           1       0.0294  167.060               4   \n",
       "1        -6.407           0       0.0498  105.256               4   \n",
       "2        -7.828           1       0.0792  123.881               4   \n",
       "3        -4.938           1       0.1070  122.444               4   \n",
       "4        -5.065           1       0.0313  172.011               4   \n",
       "...         ...         ...          ...      ...             ...   \n",
       "18830   -16.107           1       0.0348  113.969               4   \n",
       "18831   -14.078           0       0.0301   94.286               4   \n",
       "18832   -12.222           1       0.0355  130.534               4   \n",
       "18833   -12.020           1       0.0328  106.063               4   \n",
       "18834   -11.790           1       0.0302   91.490               4   \n",
       "\n",
       "       audio_valence  \n",
       "0              0.474  \n",
       "1              0.370  \n",
       "2              0.324  \n",
       "3              0.198  \n",
       "4              0.574  \n",
       "...              ...  \n",
       "18830          0.300  \n",
       "18831          0.265  \n",
       "18832          0.286  \n",
       "18833          0.323  \n",
       "18834          0.581  \n",
       "\n",
       "[14926 rows x 15 columns]"
      ]
     },
     "metadata": {},
     "output_type": "display_data"
    }
   ],
   "source": [
    "df = pd.read_csv(\"song_data.csv\")\n",
    "df = df.dropna()\n",
    "df = df.drop_duplicates()\n",
    "display(df)"
   ]
  },
  {
   "cell_type": "code",
   "execution_count": 60,
   "id": "60a8b401-4e58-4a62-bbf6-af73169ec588",
   "metadata": {
    "execution": {
     "iopub.execute_input": "2023-10-03T10:32:33.314212Z",
     "iopub.status.busy": "2023-10-03T10:32:33.313475Z",
     "iopub.status.idle": "2023-10-03T10:32:33.329820Z",
     "shell.execute_reply": "2023-10-03T10:32:33.329039Z",
     "shell.execute_reply.started": "2023-10-03T10:32:33.314178Z"
    },
    "tags": []
   },
   "outputs": [],
   "source": [
    "df = df.reindex(columns=df.columns[:0:-1])\n",
    "train_data, test_data = train_test_split(df, test_size=0.10)"
   ]
  },
  {
   "cell_type": "code",
   "execution_count": 87,
   "id": "cace6888-e9d5-486f-9390-906014ffca61",
   "metadata": {
    "execution": {
     "iopub.execute_input": "2023-10-03T10:35:11.085659Z",
     "iopub.status.busy": "2023-10-03T10:35:11.084777Z",
     "iopub.status.idle": "2023-10-03T10:35:11.183403Z",
     "shell.execute_reply": "2023-10-03T10:35:11.182844Z",
     "shell.execute_reply.started": "2023-10-03T10:35:11.085621Z"
    },
    "tags": []
   },
   "outputs": [
    {
     "data": {
      "image/png": "[encoded data removed]",
      "text/plain": [
       "<Figure size 640x480 with 1 Axes>"
      ]
     },
     "metadata": {},
     "output_type": "display_data"
    }
   ],
   "source": [
    "model = LinearRegression(len(train_data.columns)-1, 0.00000000001)\n",
    "data = Data(train_data, 0.1)\n",
    "trainer = Trainer(max_epochs=5)\n",
    "trainer.fit(model, data, 2048)\n",
    "model.plot()"
   ]
  },
  {
   "cell_type": "code",
   "execution_count": 88,
   "id": "83b2f9dc-3d05-40fe-afbd-0f02d6826769",
   "metadata": {
    "execution": {
     "iopub.execute_input": "2023-10-03T10:35:16.093647Z",
     "iopub.status.busy": "2023-10-03T10:35:16.093221Z",
     "iopub.status.idle": "2023-10-03T10:35:16.102255Z",
     "shell.execute_reply": "2023-10-03T10:35:16.101665Z",
     "shell.execute_reply.started": "2023-10-03T10:35:16.093620Z"
    },
    "tags": []
   },
   "outputs": [
    {
     "name": "stdout",
     "output_type": "stream",
     "text": [
      "Mean Squared Error:  586.9892\n",
      "R2 Score:  -0.4127826702023678\n"
     ]
    }
   ],
   "source": [
    "test_tensor = torch.tensor(test_data.values, dtype=torch.float)\n",
    "y_pred = model.forward(test_tensor[:, :-1]).detach().numpy()\n",
    "y = test_tensor[:, -1].numpy()\n",
    "print(\"Mean Squared Error: \", mean_squared_error(y, y_pred))\n",
    "print(\"R2 Score: \", r2_score(y, y_pred))"
   ]
  }
 ],
 "metadata": {
  "kernelspec": {
   "display_name": "Python 3 (ipykernel)",
   "language": "python",
   "name": "python3"
  },
  "language_info": {
   "codemirror_mode": {
    "name": "ipython",
    "version": 3
   },
   "file_extension": ".py",
   "mimetype": "text/x-python",
   "name": "python",
   "nbconvert_exporter": "python",
   "pygments_lexer": "ipython3",
   "version": "3.9.15"
  }
 },
 "nbformat": 4,
 "nbformat_minor": 5
}
